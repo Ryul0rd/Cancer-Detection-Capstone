{
 "cells": [
  {
   "cell_type": "code",
   "execution_count": 58,
   "metadata": {},
   "outputs": [],
   "source": [
    "# Imports\n",
    "\n",
    "import os\n",
    "import shutil\n",
    "import pandas as pd\n",
    "import numpy as np\n",
    "from sklearn.metrics import confusion_matrix\n",
    "import seaborn as sns\n",
    "\n",
    "import torch\n",
    "from torch import nn\n",
    "from torch.nn import functional as F\n",
    "from torch.utils.data import DataLoader, random_split, WeightedRandomSampler\n",
    "import torchvision\n",
    "from torchvision import transforms\n",
    "import pytorch_lightning as pl\n",
    "from pytorch_lightning.metrics.classification import Accuracy, F1\n",
    "from pytorch_lightning.loggers import CSVLogger\n",
    "from pytorch_lightning.callbacks import EarlyStopping, LearningRateMonitor"
   ]
  },
  {
   "cell_type": "code",
   "execution_count": 59,
   "metadata": {},
   "outputs": [],
   "source": [
    "# Getting our images in the right folders so we can use ImageFolder\n",
    "\n",
    "project_path = os.getcwd().replace('/notebooks', '')\n",
    "csv_path = project_path + '/data/HAM10000_metadata'\n",
    "df = pd.read_csv(csv_path)\n",
    "\n",
    "for index, row in df.iterrows():\n",
    "    source = project_path + '/data/images/' + row['image_id'] + '.jpg'\n",
    "    destination = project_path + '/data/images/' + row['dx'] + '/' + row['image_id'] + '.jpg'\n",
    "    destination_folder = project_path + '/data/images/' + row['dx']\n",
    "    if not os.path.exists(destination_folder):\n",
    "        os.mkdir(destination_folder)\n",
    "    if os.path.exists(source):\n",
    "        shutil.move(source, destination)"
   ]
  },
  {
   "cell_type": "code",
   "execution_count": 60,
   "metadata": {},
   "outputs": [],
   "source": [
    "# Setting up our dataloaders\n",
    "\n",
    "val_size = 0.1\n",
    "test_size = 0.899\n",
    "\n",
    "transform = transforms.Compose([\n",
    "    transforms.ToTensor(),\n",
    "    transforms.CenterCrop((448, 576)),\n",
    "    transforms.Normalize((0.5, 0.5, 0.5), (0.5, 0.5, 0.5)),\n",
    "])\n",
    "\n",
    "ds = torchvision.datasets.ImageFolder(project_path + '/data/images2', transform=transform)\n",
    "n_val = int(val_size * len(ds))\n",
    "n_test = int(test_size * len(ds))\n",
    "n_train = len(ds) - (n_val + n_test)\n",
    "train_ds, val_ds, test_ds = random_split(ds, (n_train, n_val, n_test))\n",
    "\n",
    "class_weights = [30.6, 19.5, 9.1, 87.1, 9.0, 1.5, 70.5]\n",
    "train_ds_weights = [class_weights[label] for image, label in train_ds]\n",
    "train_loader = DataLoader(train_ds, batch_size=11, num_workers=6, shuffle=True)\n",
    "weighted_train_loader = DataLoader(train_ds, batch_size=11, num_workers=6, sampler=WeightedRandomSampler(train_ds_weights, len(train_ds), replacement=True))\n",
    "val_loader = DataLoader(val_ds, batch_size=11, num_workers=6, shuffle=False)\n",
    "test_loader = DataLoader(test_ds, batch_size=11, num_workers=6, shuffle=False)"
   ]
  },
  {
   "cell_type": "code",
   "execution_count": 64,
   "metadata": {},
   "outputs": [],
   "source": [
    "# Architecture specification\n",
    "\n",
    "class Baseline(pl.LightningModule):\n",
    "    def __init__(self, lr=1e-3):\n",
    "        super().__init__()\n",
    "        self.lr = lr\n",
    "        self.accuracy = Accuracy()\n",
    "        self.f1 = F1()\n",
    "\n",
    "        self.NN = nn.Sequential(\n",
    "            nn.Conv2d(3, 16, 3, stride=1, padding=1),\n",
    "            nn.ReLU(),\n",
    "            nn.MaxPool2d(2),\n",
    "            nn.Conv2d(16, 32, 3, stride=1, padding=1),\n",
    "            nn.ReLU(),\n",
    "            nn.MaxPool2d(2),\n",
    "            nn.Conv2d(32, 32, 3, stride=1, padding=1),\n",
    "            nn.ReLU(),\n",
    "            nn.MaxPool2d(2),\n",
    "            nn.Conv2d(32, 64, 3, stride=1, padding=1),\n",
    "            nn.ReLU(),\n",
    "            nn.MaxPool2d(2),\n",
    "            nn.Conv2d(64, 64, 3, stride=1, padding=1),\n",
    "            nn.ReLU(),\n",
    "            nn.MaxPool2d(2),\n",
    "            nn.Flatten(),\n",
    "            nn.Linear(64*18*14, 256),\n",
    "            nn.ReLU(),\n",
    "            nn.Linear(256, 128),\n",
    "            nn.ReLU(),\n",
    "            nn.Linear(128, 2)\n",
    "        )\n",
    "\n",
    "        self.NN = nn.Sequential(\n",
    "            nn.Flatten(),\n",
    "            nn.Linear(448*576*3, 64),\n",
    "            nn.ReLU(),\n",
    "            nn.Linear(64, 32),\n",
    "            nn.ReLU(),\n",
    "            nn.Linear(32, 2)\n",
    "        )\n",
    "\n",
    "    def forward(self, x):\n",
    "        return self.NN(x)\n",
    "\n",
    "    def configure_optimizers(self):\n",
    "        optimizer = torch.optim.Adam(self.parameters(), self.lr)\n",
    "        scheduler = torch.optim.lr_scheduler.ReduceLROnPlateau(optimizer, patience=2)\n",
    "        return {\n",
    "           'optimizer': optimizer,\n",
    "           'lr_scheduler': scheduler,\n",
    "           'monitor': 'val_loss'\n",
    "        }\n",
    "\n",
    "    def training_step(self, train_batch, batch_idx):\n",
    "        x, y_true = train_batch\n",
    "        y_pred = self.NN(x)\n",
    "        loss = F.cross_entropy(y_pred, y_true)\n",
    "        self.log('train_loss', loss, prog_bar=False)\n",
    "        return loss\n",
    "\n",
    "    def validation_step(self, val_batch, batch_idx):\n",
    "        x, y_true = val_batch\n",
    "        y_pred = self.NN(x)\n",
    "        loss = F.cross_entropy(y_pred, y_true.view(-1))\n",
    "        acc = self.accuracy(torch.argmax(y_pred, dim=1), y_true.view(-1))\n",
    "        f1 = self.f1(torch.argmax(y_pred, dim=1), y_true.view(-1))\n",
    "        self.log('val_loss', loss, prog_bar=True)\n",
    "        self.log('accuracy', acc, prog_bar=True)\n",
    "        self.log('f1', f1, prog_bar=True)"
   ]
  },
  {
   "cell_type": "code",
   "execution_count": 74,
   "metadata": {},
   "outputs": [
    {
     "name": "stderr",
     "output_type": "stream",
     "text": [
      "GPU available: True, used: True\n",
      "TPU available: False, using: 0 TPU cores\n"
     ]
    }
   ],
   "source": [
    "# Init model and trainer\n",
    "\n",
    "logger = CSVLogger(\"logs\", name=\"Baseline\", version='test')\n",
    "callbacks = [\n",
    "    #EarlyStopping('val_loss', patience=5),\n",
    "    LearningRateMonitor(logging_interval='step'),\n",
    "    ]\n",
    "trainer = pl.Trainer(gpus=1, auto_lr_find=False, max_epochs=25, logger=logger, callbacks=callbacks)\n",
    "model = Baseline(lr=1e-4)"
   ]
  },
  {
   "cell_type": "code",
   "execution_count": 75,
   "metadata": {},
   "outputs": [
    {
     "name": "stderr",
     "output_type": "stream",
     "text": [
      "LOCAL_RANK: 0 - CUDA_VISIBLE_DEVICES: [0]\n",
      "\n",
      "  | Name     | Type       | Params\n",
      "----------------------------------------\n",
      "0 | accuracy | Accuracy   | 0     \n",
      "1 | f1       | F1         | 0     \n",
      "2 | NN       | Sequential | 49.5 M\n",
      "----------------------------------------\n",
      "49.5 M    Trainable params\n",
      "0         Non-trainable params\n",
      "49.5 M    Total params\n",
      "198.190   Total estimated model params size (MB)\n"
     ]
    },
    {
     "name": "stdout",
     "output_type": "stream",
     "text": [
      "Epoch 24: 100%|██████████| 22/22 [00:01<00:00, 11.56it/s, loss=0.0558, v_num=test, val_loss=1.390, accuracy=0.362, f1=0.362]\n"
     ]
    }
   ],
   "source": [
    "# Train\n",
    "\n",
    "debug_ds_weights = [1.0 if i==0 or i==1 else 0.0 for i in range(len(train_ds))]\n",
    "debug_loader = DataLoader(train_ds, batch_size=10, num_workers=6, sampler=WeightedRandomSampler(debug_ds_weights, len(train_ds), replacement=True))\n",
    "\n",
    "trainer.fit(model, train_loader, val_loader)"
   ]
  },
  {
   "cell_type": "code",
   "execution_count": 76,
   "metadata": {},
   "outputs": [
    {
     "name": "stdout",
     "output_type": "stream",
     "text": [
      "3\n",
      "1\n",
      "0\n",
      "1\n",
      "tensor([[-14.0128, -11.5195]])\n",
      "tensor([[ -8.7851, -11.5739]])\n",
      "tensor([[-16.5549, -12.9116]])\n"
     ]
    }
   ],
   "source": [
    "print(len(train_ds))\n",
    "print(train_ds[0][1])\n",
    "print(train_ds[1][1])\n",
    "print(train_ds[2][1])\n",
    "model.eval()\n",
    "with torch.no_grad():\n",
    "    print(model(train_ds[0][0].unsqueeze(0)))\n",
    "    print(model(train_ds[1][0].unsqueeze(0)))\n",
    "    print(model(train_ds[2][0].unsqueeze(0)))"
   ]
  },
  {
   "cell_type": "code",
   "execution_count": 77,
   "metadata": {},
   "outputs": [
    {
     "data": {
      "text/plain": [
       "<AxesSubplot:>"
      ]
     },
     "execution_count": 77,
     "metadata": {},
     "output_type": "execute_result"
    },
    {
     "data": {
      "image/png": "[encoded data removed]",
      "text/plain": [
       "<Figure size 432x288 with 2 Axes>"
      ]
     },
     "metadata": {
      "needs_background": "light"
     },
     "output_type": "display_data"
    }
   ],
   "source": [
    "# Confusion matrix\n",
    "\n",
    "val_ds_weights = [class_weights[label] for image, label in val_ds]\n",
    "weighted_val_loader = DataLoader(val_ds, batch_size=25, num_workers=6, sampler=WeightedRandomSampler(val_ds_weights, len(val_ds), replacement=True))\n",
    "\n",
    "y_pred = []\n",
    "y_true = []\n",
    "\n",
    "# iterate over validation data\n",
    "model.eval()\n",
    "with torch.no_grad():\n",
    "        for inputs, labels in weighted_val_loader:\n",
    "                logits = model(inputs) # Feed Network\n",
    "\n",
    "                output = (torch.max(torch.exp(logits), 1))[1].cpu().numpy()\n",
    "                y_pred.extend(output) # Save Prediction\n",
    "                \n",
    "                labels = labels.data.cpu().numpy()\n",
    "                y_true.extend(labels) # Save Truth\n",
    "\n",
    "# constant for classes\n",
    "classes = ('akiec', 'bcc', 'bkl', 'df', 'mel', 'nv', 'vasc')\n",
    "classes = [1, 2]\n",
    "\n",
    "# Build confusion matrix\n",
    "cf_matrix = confusion_matrix(y_true, y_pred)\n",
    "df_cm = pd.DataFrame(cf_matrix/np.sum(cf_matrix)*7, index = [i for i in classes], columns = [i for i in classes])\n",
    "sns.heatmap(df_cm, annot=True)"
   ]
  }
 ],
 "metadata": {
  "interpreter": {
   "hash": "dd7180015afb5c2b39819f98dde8a9af643fe9afa196f2eb6eaf1e4a6c9ffccd"
  },
  "kernelspec": {
   "display_name": "Python 3.9.4 64-bit",
   "name": "python3"
  },
  "language_info": {
   "codemirror_mode": {
    "name": "ipython",
    "version": 3
   },
   "file_extension": ".py",
   "mimetype": "text/x-python",
   "name": "python",
   "nbconvert_exporter": "python",
   "pygments_lexer": "ipython3",
   "version": "3.9.4"
  },
  "orig_nbformat": 4
 },
 "nbformat": 4,
 "nbformat_minor": 2
}