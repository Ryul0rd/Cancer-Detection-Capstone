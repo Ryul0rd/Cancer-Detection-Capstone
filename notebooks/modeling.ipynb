{
 "cells": [
  {
   "cell_type": "code",
   "execution_count": 1,
   "metadata": {},
   "outputs": [],
   "source": [
    "# Imports\n",
    "\n",
    "import os\n",
    "import shutil\n",
    "import pandas as pd\n",
    "import numpy as np\n",
    "from sklearn.metrics import confusion_matrix\n",
    "import seaborn as sns\n",
    "\n",
    "import torch\n",
    "from torch import nn\n",
    "from torch.nn import functional as F\n",
    "from torch.utils.data import DataLoader, random_split, WeightedRandomSampler\n",
    "import torchvision\n",
    "from torchvision import transforms\n",
    "import pytorch_lightning as pl\n",
    "from pytorch_lightning.metrics.classification import Accuracy, F1\n",
    "from pytorch_lightning.loggers import CSVLogger\n",
    "from pytorch_lightning.callbacks import EarlyStopping, LearningRateMonitor"
   ]
  },
  {
   "cell_type": "code",
   "execution_count": 2,
   "metadata": {},
   "outputs": [],
   "source": [
    "# Getting our images in the right folders so we can use ImageFolder\n",
    "\n",
    "project_path = os.getcwd().replace('/notebooks', '')\n",
    "csv_path = project_path + '/data/HAM10000_metadata'\n",
    "metadata = pd.read_csv(csv_path)\n",
    "\n",
    "for index, row in metadata.iterrows():\n",
    "    source = project_path + '/data/images/' + row['image_id'] + '.jpg'\n",
    "    destination = project_path + '/data/images/' + row['dx'] + '/' + row['image_id'] + '.jpg'\n",
    "    destination_folder = project_path + '/data/images/' + row['dx']\n",
    "    if not os.path.exists(destination_folder):\n",
    "        os.mkdir(destination_folder)\n",
    "    if os.path.exists(source):\n",
    "        shutil.move(source, destination)"
   ]
  },
  {
   "cell_type": "code",
   "execution_count": 3,
   "metadata": {},
   "outputs": [],
   "source": [
    "# Setting up our dataloaders\n",
    "\n",
    "val_size = 0.15\n",
    "test_size = 0.15\n",
    "\n",
    "labels = ['akiec', 'bcc', 'bkl', 'df', 'mel', 'nv', 'vasc']\n",
    "\n",
    "def estimate_weights_mfb(labels):\n",
    "    frequencies = []\n",
    "    for label in labels:\n",
    "        count = len(metadata[metadata['dx'] == label]['dx'])\n",
    "        frequencies.append(count)\n",
    "    median_freq = np.median(frequencies)\n",
    "    weights = [median_freq/freq for freq in frequencies]\n",
    "    return weights\n",
    "\n",
    "def sampler_weights(dataset, class_weights):\n",
    "    weights = []\n",
    "    for img, label in dataset:\n",
    "        weights.append(class_weights[label])\n",
    "    return torch.tensor(weights)\n",
    "\n",
    "transform = transforms.Compose([\n",
    "    transforms.ToTensor(),\n",
    "    transforms.CenterCrop((448, 576)),\n",
    "    transforms.Normalize((0.5, 0.5, 0.5), (0.2, 0.2, 0.2)),\n",
    "    transforms.Resize((28, 36)),\n",
    "])\n",
    "\n",
    "ds = torchvision.datasets.ImageFolder(project_path + '/data/images', transform=transform)\n",
    "n_val = int(val_size * len(ds))\n",
    "n_test = int(test_size * len(ds))\n",
    "n_train = len(ds) - (n_val + n_test)\n",
    "train_ds, val_ds, test_ds = random_split(ds, (n_train, n_val, n_test))\n",
    "train_loader = DataLoader(train_ds, batch_size=16, num_workers=6, sampler=WeightedRandomSampler(sampler_weights(train_ds, estimate_weights_mfb(labels)), len(train_ds), replacement=True))\n",
    "val_loader = DataLoader(val_ds, batch_size=16, num_workers=6, sampler=WeightedRandomSampler(sampler_weights(val_ds, estimate_weights_mfb(labels)), len(val_ds), replacement=True))\n",
    "test_loader = DataLoader(test_ds, batch_size=16, num_workers=6, sampler=WeightedRandomSampler(sampler_weights(test_ds, estimate_weights_mfb(labels)), len(test_ds), replacement=True))"
   ]
  },
  {
   "cell_type": "code",
   "execution_count": 4,
   "metadata": {},
   "outputs": [],
   "source": [
    "class Baseline(pl.LightningModule):\n",
    "    def __init__(self, lr=1e-3):\n",
    "        super().__init__()\n",
    "        self.lr = lr\n",
    "        #self.accuracy = Accuracy()\n",
    "        #self.f1 = F1()\n",
    "\n",
    "        # self.NN = nn.Sequential(\n",
    "        #     nn.Conv2d(3, 16, 3, stride=1, padding=1),\n",
    "        #     nn.ReLU(),\n",
    "        #     nn.MaxPool2d(2),\n",
    "        #     nn.Conv2d(16, 32, 3, stride=1, padding=1),\n",
    "        #     nn.ReLU(),\n",
    "        #     nn.MaxPool2d(2),\n",
    "        #     nn.Conv2d(32, 32, 3, stride=1, padding=1),\n",
    "        #     nn.ReLU(),\n",
    "        #     nn.MaxPool2d(2),\n",
    "        #     nn.Conv2d(32, 64, 3, stride=1, padding=1),\n",
    "        #     nn.ReLU(),\n",
    "        #     nn.MaxPool2d(2),\n",
    "        #     nn.Conv2d(64, 64, 3, stride=1, padding=1),\n",
    "        #     nn.ReLU(),\n",
    "        #     nn.MaxPool2d(2),\n",
    "        #     nn.Flatten(),\n",
    "        #     nn.Linear(64*18*14, 256),\n",
    "        #     nn.ReLU(),\n",
    "        #     nn.Linear(256, 128),\n",
    "        #     nn.ReLU(),\n",
    "        #     nn.Linear(128, 2)\n",
    "        # )\n",
    "\n",
    "        self.NN = nn.Sequential(\n",
    "            nn.Flatten(),\n",
    "            nn.Linear(28*36*3, 64),\n",
    "            nn.ReLU(),\n",
    "            nn.Linear(64, 32),\n",
    "            nn.ReLU(),\n",
    "            nn.Linear(32, 7)\n",
    "        )\n",
    "\n",
    "    def forward(self, x):\n",
    "        return self.NN(x)\n",
    "\n",
    "    def configure_optimizers(self):\n",
    "        optimizer = torch.optim.Adam(self.parameters(), self.lr)\n",
    "        scheduler = torch.optim.lr_scheduler.ReduceLROnPlateau(optimizer, patience=2)\n",
    "        return {\n",
    "           'optimizer': optimizer,\n",
    "           'lr_scheduler': scheduler,\n",
    "           'monitor': 'val_loss'\n",
    "        }\n",
    "\n",
    "    def training_step(self, train_batch, batch_idx):\n",
    "        x, y_true = train_batch\n",
    "        y_pred = self.NN(x)\n",
    "        loss = F.cross_entropy(y_pred, y_true)\n",
    "        self.log('train_loss', loss, prog_bar=False)\n",
    "        return loss\n",
    "\n",
    "    def validation_step(self, val_batch, batch_idx):\n",
    "        x, y_true = val_batch\n",
    "        y_pred = self.NN(x)\n",
    "        loss = F.cross_entropy(y_pred, y_true.view(-1))\n",
    "        #acc = self.accuracy(torch.argmax(y_pred, dim=1), y_true.view(-1))\n",
    "        #f1 = self.f1(torch.argmax(y_pred, dim=1), y_true.view(-1))\n",
    "        self.log('val_loss', loss, prog_bar=True)\n",
    "        #self.log('accuracy', acc, prog_bar=True)\n",
    "        #self.log('f1', f1, prog_bar=True)"
   ]
  },
  {
   "cell_type": "code",
   "execution_count": 5,
   "metadata": {},
   "outputs": [
    {
     "name": "stderr",
     "output_type": "stream",
     "text": [
      "GPU available: True, used: True\n",
      "TPU available: False, using: 0 TPU cores\n"
     ]
    }
   ],
   "source": [
    "# Init model and trainer\n",
    "\n",
    "logger = CSVLogger(\"logs\", name=\"Baseline\", version='test')\n",
    "callbacks = [\n",
    "    #EarlyStopping('val_loss', patience=5),\n",
    "    LearningRateMonitor(logging_interval='step'),\n",
    "    ]\n",
    "trainer = pl.Trainer(gpus=1, auto_lr_find=False, max_epochs=2, logger=logger, callbacks=callbacks)\n",
    "model = Baseline(lr=1e-4)"
   ]
  },
  {
   "cell_type": "code",
   "execution_count": 6,
   "metadata": {},
   "outputs": [],
   "source": [
    "# lr_finder = trainer.tuner.lr_find(model, train_loader, val_loader, update_attr=True)\n",
    "# print(f'Suggested LR: {lr_finder.suggestion()}')\n",
    "# fig = lr_finder.plot(suggest=True)\n",
    "# fig.show()"
   ]
  },
  {
   "cell_type": "code",
   "execution_count": 7,
   "metadata": {},
   "outputs": [
    {
     "name": "stderr",
     "output_type": "stream",
     "text": [
      "LOCAL_RANK: 0 - CUDA_VISIBLE_DEVICES: [0]\n",
      "/home/ryan/anaconda3/envs/ml/lib/python3.9/site-packages/pytorch_lightning/utilities/distributed.py:69: UserWarning: Experiment logs directory logs/Baseline/test exists and is not empty. Previous log files in this directory will be deleted when the new ones are saved!\n",
      "  warnings.warn(*args, **kwargs)\n",
      "\n",
      "  | Name | Type       | Params\n",
      "------------------------------------\n",
      "0 | NN   | Sequential | 195 K \n",
      "------------------------------------\n",
      "195 K     Trainable params\n",
      "0         Non-trainable params\n",
      "195 K     Total params\n",
      "0.784     Total estimated model params size (MB)\n"
     ]
    },
    {
     "name": "stdout",
     "output_type": "stream",
     "text": [
      "Epoch 1: 100%|██████████| 533/533 [00:31<00:00, 17.05it/s, loss=1.32, v_num=test, val_loss=1.450]\n"
     ]
    }
   ],
   "source": [
    "# Train\n",
    "\n",
    "trainer.fit(model, train_loader, val_loader)"
   ]
  },
  {
   "cell_type": "code",
   "execution_count": 8,
   "metadata": {},
   "outputs": [
    {
     "data": {
      "text/plain": [
       "<AxesSubplot:>"
      ]
     },
     "execution_count": 8,
     "metadata": {},
     "output_type": "execute_result"
    },
    {
     "data": {
      "image/png": "[encoded data removed]",
      "text/plain": [
       "<Figure size 432x288 with 2 Axes>"
      ]
     },
     "metadata": {
      "needs_background": "light"
     },
     "output_type": "display_data"
    }
   ],
   "source": [
    "y_pred = []\n",
    "y_true = []\n",
    "\n",
    "# iterate over validation data\n",
    "model.eval()\n",
    "with torch.no_grad():\n",
    "        for inputs, labels in val_loader:\n",
    "                logits = model(inputs) # Feed Network\n",
    "\n",
    "                output = (torch.max(torch.exp(logits), 1))[1].cpu().numpy()\n",
    "                y_pred.extend(output) # Save Prediction\n",
    "                \n",
    "                labels = labels.data.cpu().numpy()\n",
    "                y_true.extend(labels) # Save Truth\n",
    "\n",
    "# constant for classes\n",
    "classes = ('akiec', 'bcc', 'bkl', 'df', 'mel', 'nv', 'vasc')\n",
    "\n",
    "# Build confusion matrix\n",
    "cf_matrix = confusion_matrix(y_true, y_pred)\n",
    "df_cm = pd.DataFrame(cf_matrix/np.sum(cf_matrix)*7, index = [i for i in classes], columns = [i for i in classes])\n",
    "sns.heatmap(df_cm, annot=True)"
   ]
  }
 ],
 "metadata": {
  "interpreter": {
   "hash": "dd7180015afb5c2b39819f98dde8a9af643fe9afa196f2eb6eaf1e4a6c9ffccd"
  },
  "kernelspec": {
   "display_name": "Python 3.9.4 64-bit ('ml': conda)",
   "name": "python3"
  },
  "language_info": {
   "codemirror_mode": {
    "name": "ipython",
    "version": 3
   },
   "file_extension": ".py",
   "mimetype": "text/x-python",
   "name": "python",
   "nbconvert_exporter": "python",
   "pygments_lexer": "ipython3",
   "version": "3.9.4"
  },
  "orig_nbformat": 4
 },
 "nbformat": 4,
 "nbformat_minor": 2
}