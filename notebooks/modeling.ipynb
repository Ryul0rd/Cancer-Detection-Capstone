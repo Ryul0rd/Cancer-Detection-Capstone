{
 "cells": [
  {
   "cell_type": "code",
   "execution_count": 42,
   "metadata": {},
   "outputs": [],
   "source": [
    "# Imports\n",
    "\n",
    "import os\n",
    "import shutil\n",
    "from random import shuffle\n",
    "import pandas as pd\n",
    "import numpy as np\n",
    "from sklearn.metrics import confusion_matrix\n",
    "import seaborn as sns\n",
    "import plotly.express as px\n",
    "\n",
    "import torch\n",
    "from torch import nn\n",
    "from torch.nn import functional as F\n",
    "from torch.utils.data import DataLoader, random_split, WeightedRandomSampler\n",
    "import torchvision\n",
    "from torchvision import transforms as T\n",
    "import pytorch_lightning as pl\n",
    "from pytorch_lightning.metrics.classification import Accuracy, F1\n",
    "from pytorch_lightning.loggers import CSVLogger\n",
    "from pytorch_lightning.callbacks import EarlyStopping, LearningRateMonitor"
   ]
  },
  {
   "cell_type": "code",
   "execution_count": 43,
   "metadata": {},
   "outputs": [],
   "source": [
    "# Getting our images in the right folders so we can use ImageFolder\n",
    "\n",
    "project_path = os.getcwd().replace('/notebooks', '')\n",
    "csv_path = project_path + '/data/HAM10000_metadata'\n",
    "metadata = pd.read_csv(csv_path)\n",
    "\n",
    "lesion_ids = metadata['lesion_id'].unique()\n",
    "shuffle(lesion_ids)\n",
    "lesion_ids = list(lesion_ids)\n",
    "\n",
    "val_size = 0.15\n",
    "test_size = 0.15\n",
    "\n",
    "def set_membership(lesion_id):\n",
    "    idx = lesion_ids.index(lesion_id)\n",
    "    if idx < test_size*len(lesion_ids):\n",
    "        return 'test'\n",
    "    elif idx < (test_size+val_size)*len(lesion_ids):\n",
    "        return 'val'\n",
    "    else:\n",
    "        return 'train'\n",
    "\n",
    "for i in ['train', 'val', 'test']:\n",
    "    path = project_path + '/data/images/' + i\n",
    "    if not os.path.exists(path):\n",
    "        os.mkdir(path)\n",
    "\n",
    "for index, row in metadata.iterrows():\n",
    "    destination_set = set_membership(row['lesion_id'])\n",
    "    source = project_path + '/data/images/' + row['image_id'] + '.jpg'\n",
    "    destination = project_path + '/data/images/' + destination_set + '/' + row['dx'] + '/' + row['image_id'] + '.jpg'\n",
    "    destination_folder = project_path + '/data/images/' + destination_set + '/' + row['dx']\n",
    "    if not os.path.exists(destination_folder):\n",
    "        os.mkdir(destination_folder)\n",
    "    if os.path.exists(source):\n",
    "        shutil.move(source, destination)"
   ]
  },
  {
   "cell_type": "code",
   "execution_count": 56,
   "metadata": {},
   "outputs": [],
   "source": [
    "# Setting up our dataloaders\n",
    "\n",
    "labels = ['akiec', 'bcc', 'bkl', 'df', 'mel', 'nv', 'vasc']\n",
    "\n",
    "def estimate_weights_mfb(labels):\n",
    "    frequencies = []\n",
    "    for label in labels:\n",
    "        count = len(metadata[metadata['dx'] == label]['dx'])\n",
    "        frequencies.append(count)\n",
    "    median_freq = np.median(frequencies)\n",
    "    weights = [median_freq/freq for freq in frequencies]\n",
    "    return weights\n",
    "\n",
    "def sampler_weights(dataset, class_weights):\n",
    "    weights = []\n",
    "    for img, label in dataset:\n",
    "        weights.append(class_weights[label])\n",
    "    return torch.tensor(weights)\n",
    "\n",
    "train_transform = T.Compose([\n",
    "    T.ToTensor(),\n",
    "    T.CenterCrop((448, 576)),\n",
    "    T.Resize((224, 288)),\n",
    "    T.Normalize(mean=[0.485, 0.456, 0.406], std=[0.229, 0.224, 0.225]),\n",
    "    T.RandomHorizontalFlip(p=0.5),\n",
    "    T.RandomRotation(90),\n",
    "])\n",
    "\n",
    "test_transform = T.Compose([\n",
    "    T.ToTensor(),\n",
    "    T.CenterCrop((448, 576)),\n",
    "    T.Resize((224, 288)),\n",
    "    T.Normalize(mean=[0.485, 0.456, 0.406], std=[0.229, 0.224, 0.225]),\n",
    "])\n",
    "\n",
    "batch_size = 32\n",
    "num_workers = 8\n",
    "class_weights = estimate_weights_mfb(labels)\n",
    "train_ds = torchvision.datasets.ImageFolder(project_path + '/data/images/train', transform=train_transform)\n",
    "val_ds = torchvision.datasets.ImageFolder(project_path + '/data/images/val', transform=test_transform)\n",
    "test_ds = torchvision.datasets.ImageFolder(project_path + '/data/images/test', transform=test_transform)\n",
    "train_loader = DataLoader(train_ds, batch_size=batch_size, num_workers=num_workers, sampler=WeightedRandomSampler(sampler_weights(train_ds, class_weights), len(train_ds), replacement=True))\n",
    "val_loader = DataLoader(val_ds, batch_size=batch_size, num_workers=num_workers, sampler=WeightedRandomSampler(sampler_weights(val_ds, class_weights), len(val_ds), replacement=True))\n",
    "test_loader = DataLoader(test_ds, batch_size=batch_size, num_workers=num_workers, sampler=WeightedRandomSampler(sampler_weights(test_ds, class_weights), len(test_ds), replacement=True))"
   ]
  },
  {
   "cell_type": "code",
   "execution_count": null,
   "metadata": {},
   "outputs": [],
   "source": [
    "# Architecture specification\n",
    "\n",
    "class Baseline(pl.LightningModule):\n",
    "    def __init__(self, lr=1e-3, dropout=0.2):\n",
    "        super().__init__()\n",
    "        self.lr = lr\n",
    "        self.accuracy = Accuracy()\n",
    "        self.f1 = F1()\n",
    "\n",
    "        self.NN = nn.Sequential(\n",
    "            nn.Conv2d(3, 16, 5, stride=1, padding=2),\n",
    "            nn.BatchNorm2d(16),\n",
    "            nn.ReLU(),\n",
    "            nn.MaxPool2d(2),\n",
    "            nn.Dropout(dropout),\n",
    "            nn.Conv2d(16, 32, 5, stride=1, padding=2),\n",
    "            nn.BatchNorm2d(32),\n",
    "            nn.ReLU(),\n",
    "            nn.MaxPool2d(2),\n",
    "            nn.Dropout(dropout),\n",
    "            nn.Conv2d(32, 64, 5, stride=1, padding=2),\n",
    "            nn.BatchNorm2d(64),\n",
    "            nn.ReLU(),\n",
    "            nn.MaxPool2d(2),\n",
    "            nn.Dropout(dropout),\n",
    "            nn.Conv2d(64, 64, 5, stride=1, padding=2),\n",
    "            nn.BatchNorm2d(64),\n",
    "            nn.ReLU(),\n",
    "            nn.MaxPool2d(2),\n",
    "            nn.Dropout(dropout),\n",
    "            nn.Flatten(),\n",
    "            nn.Linear(64*7*9, 128),\n",
    "            nn.BatchNorm1d(128),\n",
    "            nn.ReLU(),\n",
    "            nn.Dropout(dropout),\n",
    "            nn.Linear(128, 64),\n",
    "            nn.BatchNorm1d(64),\n",
    "            nn.ReLU(),\n",
    "            nn.Dropout(dropout),\n",
    "            nn.Linear(64, 7)\n",
    "        )\n",
    "\n",
    "    def forward(self, x):\n",
    "        return self.NN(x)\n",
    "\n",
    "    def configure_optimizers(self):\n",
    "        optimizer = torch.optim.Adam(self.parameters(), self.lr)\n",
    "        scheduler = torch.optim.lr_scheduler.ReduceLROnPlateau(optimizer, patience=2)\n",
    "        return {\n",
    "           'optimizer': optimizer,\n",
    "           'lr_scheduler': scheduler,\n",
    "           'monitor': 'val_loss'\n",
    "        }\n",
    "\n",
    "    def training_step(self, train_batch, batch_idx):\n",
    "        x, y_true = train_batch\n",
    "        y_pred = self.NN(x)\n",
    "        loss = F.cross_entropy(y_pred, y_true)\n",
    "        self.log('train_loss', loss, prog_bar=False)\n",
    "        return loss\n",
    "\n",
    "    def validation_step(self, val_batch, batch_idx):\n",
    "        x, y_true = val_batch\n",
    "        y_pred = self.NN(x)\n",
    "        loss = F.cross_entropy(y_pred, y_true.view(-1))\n",
    "        acc = self.accuracy(torch.argmax(y_pred, dim=1), y_true.view(-1))\n",
    "        f1 = self.f1(torch.argmax(y_pred, dim=1), y_true.view(-1))\n",
    "        self.log('val_loss', loss, prog_bar=True)\n",
    "        self.log('accuracy', acc, prog_bar=True)\n",
    "        self.log('f1', f1, prog_bar=True)"
   ]
  },
  {
   "cell_type": "code",
   "execution_count": null,
   "metadata": {},
   "outputs": [],
   "source": [
    "# Init model and trainer\n",
    "\n",
    "logger = CSVLogger(\"logs\", name=\"LeNetLike\", version='1.0')\n",
    "callbacks = [\n",
    "    EarlyStopping('accuracy', patience=5),\n",
    "    LearningRateMonitor(logging_interval='step'),\n",
    "    ]\n",
    "trainer = pl.Trainer(gpus=1, auto_lr_find=False, max_epochs=20, logger=logger, callbacks=callbacks)\n",
    "model = Baseline(lr=1e-3)"
   ]
  },
  {
   "cell_type": "code",
   "execution_count": null,
   "metadata": {},
   "outputs": [],
   "source": [
    "# Optionally use lrfinder\n",
    "\n",
    "# lr_finder = trainer.tuner.lr_find(model, train_loader, val_loader, update_attr=True)\n",
    "# print(f'Suggested LR: {lr_finder.suggestion()}')\n",
    "# fig = lr_finder.plot(suggest=True)\n",
    "# fig.show()"
   ]
  },
  {
   "cell_type": "code",
   "execution_count": null,
   "metadata": {},
   "outputs": [],
   "source": [
    "# Train\n",
    "\n",
    "trainer.fit(model, train_loader, val_loader)"
   ]
  },
  {
   "cell_type": "code",
   "execution_count": null,
   "metadata": {},
   "outputs": [],
   "source": [
    "# Visualize losses/metrics\n",
    "\n",
    "log_dir = project_path + '/notebooks/logs/LeNetLike/1.0/'\n",
    "log = pd.read_csv(os.path.join(log_dir, 'metrics.csv'))\n",
    "\n",
    "train_log = log[['step', 'train_loss']].dropna().rename(columns={'train_loss': 'loss'})\n",
    "train_log['set'] = 'train'\n",
    "val_log = log[['step', 'val_loss']].dropna().rename(columns={'val_loss': 'loss'})\n",
    "val_log['set'] = 'val'\n",
    "\n",
    "log = train_log.append(val_log)\n",
    "#log = train_log\n",
    "log = log.sort_values(by=['step'])\n",
    "\n",
    "fig = px.line(log, x='step', y='loss', color='set')\n",
    "fig.show()"
   ]
  },
  {
   "cell_type": "code",
   "execution_count": null,
   "metadata": {},
   "outputs": [],
   "source": [
    "# Load a model we want to check out.\n",
    "\n",
    "path = project_path + '/models/LeNetLike.pt'\n",
    "#model.load_state_dict(torch.load(path))"
   ]
  },
  {
   "cell_type": "code",
   "execution_count": null,
   "metadata": {},
   "outputs": [],
   "source": [
    "# Plot a confusion matrix\n",
    "\n",
    "y_pred = []\n",
    "y_true = []\n",
    "\n",
    "# iterate over validation data\n",
    "model.eval()\n",
    "with torch.no_grad():\n",
    "        for inputs, labels in val_loader:\n",
    "                logits = model(inputs) # Feed Network\n",
    "\n",
    "                output = (torch.max(torch.exp(logits), 1))[1].cpu().numpy()\n",
    "                y_pred.extend(output) # Save Prediction\n",
    "                \n",
    "                labels = labels.data.cpu().numpy()\n",
    "                y_true.extend(labels) # Save Truth\n",
    "\n",
    "# constant for classes\n",
    "classes = ('akiec', 'bcc', 'bkl', 'df', 'mel', 'nv', 'vasc')\n",
    "\n",
    "# Build confusion matrix\n",
    "cf_matrix = confusion_matrix(y_true, y_pred)\n",
    "norm_cf_matrix = np.zeros((7, 7))\n",
    "for idx, row in enumerate(cf_matrix):\n",
    "    row = row/row.sum()*100.0\n",
    "    norm_cf_matrix[idx] = row\n",
    "df_cm = pd.DataFrame(norm_cf_matrix, index = [i for i in classes], columns = [i for i in classes])\n",
    "sns.heatmap(df_cm, annot=True, square=True, vmin=0.0, vmax=100.0)"
   ]
  },
  {
   "cell_type": "code",
   "execution_count": null,
   "metadata": {},
   "outputs": [],
   "source": [
    "# Save the model if we like it.\n",
    "\n",
    "path = project_path + '/models/LeNetLike.pt'\n",
    "#torch.save(model.state_dict(), path)"
   ]
  },
  {
   "cell_type": "code",
   "execution_count": 77,
   "metadata": {},
   "outputs": [],
   "source": [
    "# ResNet time\n",
    "\n",
    "class ResNet(pl.LightningModule):\n",
    "    def __init__(self, lr=1e-3, dropout=0.5):\n",
    "        super().__init__()\n",
    "        self.lr = lr\n",
    "        self.accuracy = Accuracy()\n",
    "        self.f1 = F1()\n",
    "\n",
    "        self.resnet = torchvision.models.resnet34(pretrained=True)\n",
    "        for layer in self.resnet.named_children():\n",
    "            layer[1].requires_grad = False\n",
    "        self.resnet.fc = nn.Sequential(\n",
    "            nn.Dropout(dropout),\n",
    "            nn.Linear(512, 7)\n",
    "        )\n",
    "\n",
    "    def forward(self, x):\n",
    "        return self.resnet(x)\n",
    "\n",
    "    def configure_optimizers(self):\n",
    "        optimizer = torch.optim.Adam(self.parameters(), self.lr)\n",
    "        scheduler = torch.optim.lr_scheduler.ReduceLROnPlateau(optimizer, patience=2)\n",
    "        return {\n",
    "           'optimizer': optimizer,\n",
    "           'lr_scheduler': scheduler,\n",
    "           'monitor': 'val_loss'\n",
    "        }\n",
    "\n",
    "    def training_step(self, train_batch, batch_idx):\n",
    "        x, y_true = train_batch\n",
    "        y_pred = self.resnet(x)\n",
    "        loss = F.cross_entropy(y_pred, y_true)\n",
    "        self.log('train_loss', loss, prog_bar=False)\n",
    "        return loss\n",
    "\n",
    "    def validation_step(self, val_batch, batch_idx):\n",
    "        x, y_true = val_batch\n",
    "        y_pred = self.resnet(x)\n",
    "        loss = F.cross_entropy(y_pred, y_true.view(-1))\n",
    "        acc = self.accuracy(torch.argmax(y_pred, dim=1), y_true.view(-1))\n",
    "        f1 = self.f1(torch.argmax(y_pred, dim=1), y_true.view(-1))\n",
    "        self.log('val_loss', loss, prog_bar=True)\n",
    "        self.log('accuracy', acc, prog_bar=True)\n",
    "        self.log('f1', f1, prog_bar=True)"
   ]
  },
  {
   "cell_type": "code",
   "execution_count": 78,
   "metadata": {},
   "outputs": [
    {
     "name": "stderr",
     "output_type": "stream",
     "text": [
      "GPU available: True, used: True\n",
      "TPU available: False, using: 0 TPU cores\n"
     ]
    }
   ],
   "source": [
    "# Init model and trainer\n",
    "\n",
    "logger = CSVLogger(\"logs\", name=\"ResNet\", version='1.0')\n",
    "callbacks = [\n",
    "    EarlyStopping('accuracy', patience=5),\n",
    "    LearningRateMonitor(logging_interval='step'),\n",
    "    ]\n",
    "trainer = pl.Trainer(gpus=1, auto_lr_find=False, max_epochs=20, logger=logger, callbacks=callbacks, log_every_n_steps=5)\n",
    "model = ResNet(lr=1e-4)"
   ]
  },
  {
   "cell_type": "code",
   "execution_count": 21,
   "metadata": {},
   "outputs": [
    {
     "name": "stderr",
     "output_type": "stream",
     "text": [
      "LOCAL_RANK: 0 - CUDA_VISIBLE_DEVICES: [0]\n",
      "\n",
      "  | Name     | Type     | Params\n",
      "--------------------------------------\n",
      "0 | accuracy | Accuracy | 0     \n",
      "1 | f1       | F1       | 0     \n",
      "2 | resnet   | ResNet   | 21.3 M\n",
      "--------------------------------------\n",
      "21.3 M    Trainable params\n",
      "0         Non-trainable params\n",
      "21.3 M    Total params\n",
      "85.153    Total estimated model params size (MB)\n",
      "Restored states from the checkpoint file at /home/ryan/Documents/Springboard/Cancer-Detection-Capstone/notebooks/lr_find_temp_model.ckpt\n",
      "Learning rate set to 0.0009120108393559097\n",
      "Finding best initial lr: 100%|██████████| 100/100 [00:15<00:00,  6.37it/s]\n",
      "<ipython-input-21-a8856389b847>:6: UserWarning:\n",
      "\n",
      "Matplotlib is currently using module://ipykernel.pylab.backend_inline, which is a non-GUI backend, so cannot show the figure.\n",
      "\n"
     ]
    },
    {
     "name": "stdout",
     "output_type": "stream",
     "text": [
      "Suggested LR: 0.0009120108393559097\n"
     ]
    },
    {
     "data": {
      "image/png": "[encoded data removed]",
      "text/plain": [
       "<Figure size 432x288 with 1 Axes>"
      ]
     },
     "metadata": {
      "needs_background": "light"
     },
     "output_type": "display_data"
    }
   ],
   "source": [
    "# Optionally use lrfinder\n",
    "\n",
    "# lr_finder = trainer.tuner.lr_find(model, train_loader, val_loader, update_attr=True)\n",
    "# print(f'Suggested LR: {lr_finder.suggestion()}')\n",
    "# fig = lr_finder.plot(suggest=True)\n",
    "# fig.show()"
   ]
  },
  {
   "cell_type": "code",
   "execution_count": 79,
   "metadata": {},
   "outputs": [
    {
     "name": "stderr",
     "output_type": "stream",
     "text": [
      "LOCAL_RANK: 0 - CUDA_VISIBLE_DEVICES: [0]\n",
      "\n",
      "  | Name     | Type     | Params\n",
      "--------------------------------------\n",
      "0 | accuracy | Accuracy | 0     \n",
      "1 | f1       | F1       | 0     \n",
      "2 | resnet   | ResNet   | 21.3 M\n",
      "--------------------------------------\n",
      "21.3 M    Trainable params\n",
      "0         Non-trainable params\n",
      "21.3 M    Total params\n",
      "85.153    Total estimated model params size (MB)\n"
     ]
    },
    {
     "name": "stdout",
     "output_type": "stream",
     "text": [
      "Epoch 10: 100%|██████████| 267/267 [01:25<00:00,  3.11it/s, loss=0.104, v_num=1.0, val_loss=1.100, accuracy=0.712, f1=0.712]\n"
     ]
    }
   ],
   "source": [
    "# Train\n",
    "\n",
    "trainer.fit(model, train_loader, val_loader)"
   ]
  },
  {
   "cell_type": "code",
   "execution_count": 80,
   "metadata": {},
   "outputs": [
    {
     "data": {
      "application/vnd.plotly.v1+json": {
       "config": {
        "plotlyServerURL": "https://plot.ly"
       },
       "data": [
        {
         "hovertemplate": "set=train<br>step=%{x}<br>loss=%{y}<extra></extra>",
         "legendgroup": "train",
         "line": {
          "color": "#636efa",
          "dash": "solid"
         },
         "mode": "lines",
         "name": "train",
         "orientation": "v",
         "showlegend": true,
         "type": "scatter",
         "x": [
          4,
          9,
          14,
          19,
          24,
          29,
          34,
          39,
          44,
          49,
          54,
          59,
          64,
          69,
          74,
          79,
          84,
          89,
          94,
          99,
          104,
          109,
          114,
          119,
          124,
          129,
          134,
          139,
          144,
          149,
          154,
          159,
          164,
          169,
          174,
          179,
          184,
          189,
          194,
          199,
          204,
          209,
          214,
          219,
          224,
          229,
          234,
          239,
          244,
          249,
          254,
          259,
          264,
          269,
          274,
          279,
          284,
          289,
          294,
          299,
          304,
          309,
          314,
          319,
          324,
          329,
          334,
          339,
          344,
          349,
          354,
          359,
          364,
          369,
          374,
          379,
          384,
          389,
          394,
          399,
          404,
          409,
          414,
          419,
          424,
          429,
          434,
          439,
          444,
          449,
          454,
          459,
          464,
          469,
          474,
          479,
          484,
          489,
          494,
          499,
          504,
          509,
          514,
          519,
          524,
          529,
          534,
          539,
          544,
          549,
          554,
          559,
          564,
          569,
          574,
          579,
          584,
          589,
          594,
          599,
          604,
          609,
          614,
          619,
          624,
          629,
          634,
          639,
          644,
          649,
          654,
          659,
          664,
          669,
          674,
          679,
          684,
          689,
          694,
          699,
          704,
          709,
          714,
          719,
          724,
          729,
          734,
          739,
          744,
          749,
          754,
          759,
          764,
          769,
          774,
          779,
          784,
          789,
          794,
          799,
          804,
          809,
          814,
          819,
          824,
          829,
          834,
          839,
          844,
          849,
          854,
          859,
          864,
          869,
          874,
          879,
          884,
          889,
          894,
          899,
          904,
          909,
          914,
          919,
          924,
          929,
          934,
          939,
          944,
          949,
          954,
          959,
          964,
          969,
          974,
          979,
          984,
          989,
          994,
          999,
          1004,
          1009,
          1014,
          1019,
          1024,
          1029,
          1034,
          1039,
          1044,
          1049,
          1054,
          1059,
          1064,
          1069,
          1074,
          1079,
          1084,
          1089,
          1094,
          1099,
          1104,
          1109,
          1114,
          1119,
          1124,
          1129,
          1134,
          1139,
          1144,
          1149,
          1154,
          1159,
          1164,
          1169,
          1174,
          1179,
          1184,
          1189,
          1194,
          1199,
          1204,
          1209,
          1214,
          1219,
          1224,
          1229,
          1234,
          1239,
          1244,
          1249,
          1254,
          1259,
          1264,
          1269,
          1274,
          1279,
          1284,
          1289,
          1294,
          1299,
          1304,
          1309,
          1314,
          1319,
          1324,
          1329,
          1334,
          1339,
          1344,
          1349,
          1354,
          1359,
          1364,
          1369,
          1374,
          1379,
          1384,
          1389,
          1394,
          1399,
          1404,
          1409,
          1414,
          1419,
          1424,
          1429,
          1434,
          1439,
          1444,
          1449,
          1454,
          1459,
          1464,
          1469,
          1474,
          1479,
          1484,
          1489,
          1494,
          1499,
          1504,
          1509,
          1514,
          1519,
          1524,
          1529,
          1534,
          1539,
          1544,
          1549,
          1554,
          1559,
          1564,
          1569,
          1574,
          1579,
          1584,
          1589,
          1594,
          1599,
          1604,
          1609,
          1614,
          1619,
          1624,
          1629,
          1634,
          1639,
          1644,
          1649,
          1654,
          1659,
          1664,
          1669,
          1674,
          1679,
          1684,
          1689,
          1694,
          1699,
          1704,
          1709,
          1714,
          1719,
          1724,
          1729,
          1734,
          1739,
          1744,
          1749,
          1754,
          1759,
          1764,
          1769,
          1774,
          1779,
          1784,
          1789,
          1794,
          1799,
          1804,
          1809,
          1814,
          1819,
          1824,
          1829,
          1834,
          1839,
          1844,
          1849,
          1854,
          1859,
          1864,
          1869,
          1874,
          1879,
          1884,
          1889,
          1894,
          1899,
          1904,
          1909,
          1914,
          1919,
          1924,
          1929,
          1934,
          1939,
          1944,
          1949,
          1954,
          1959,
          1964,
          1969,
          1974,
          1979,
          1984,
          1989,
          1994,
          1999,
          2004,
          2009,
          2014,
          2019,
          2024,
          2029,
          2034,
          2039,
          2044,
          2049,
          2054,
          2059,
          2064,
          2069,
          2074,
          2079,
          2084,
          2089,
          2094,
          2099,
          2104,
          2109,
          2114,
          2119,
          2124,
          2129,
          2134,
          2139,
          2144,
          2149,
          2154,
          2159,
          2164,
          2169,
          2174,
          2179,
          2184,
          2189,
          2194,
          2199,
          2204,
          2209,
          2214,
          2219,
          2224,
          2229,
          2234,
          2239,
          2244,
          2249,
          2254,
          2259,
          2264,
          2269,
          2274,
          2279,
          2284,
          2289,
          2294,
          2299,
          2304,
          2309,
          2314,
          2319,
          2324,
          2329,
          2334,
          2339,
          2344,
          2349,
          2354,
          2359,
          2364,
          2369,
          2374,
          2379,
          2384,
          2389,
          2394,
          2399,
          2404
         ],
         "xaxis": "x",
         "y": [
          2.260369777679444,
          1.818166255950928,
          1.459947943687439,
          1.1388907432556152,
          0.7742369174957275,
          0.9205564260482788,
          1.0078579187393188,
          1.1804730892181396,
          1.054225206375122,
          0.7835742831230164,
          0.9712797403335572,
          1.1482856273651123,
          0.7754665613174438,
          1.1940938234329224,
          0.6937370896339417,
          0.7295710444450378,
          0.6095138788223267,
          0.5179125666618347,
          0.6564164757728577,
          1.0499287843704224,
          0.687498927116394,
          0.616690993309021,
          1.0800613164901731,
          0.800382137298584,
          1.0252914428710938,
          0.8078102469444275,
          0.3939956128597259,
          0.4767056703567505,
          0.5696194767951965,
          0.7445462942123413,
          0.5451057553291321,
          0.5038748979568481,
          0.9394379258155824,
          0.4461159408092499,
          0.3420638740062713,
          0.440206378698349,
          0.3411855697631836,
          0.4731621742248535,
          0.2951044738292694,
          0.609545111656189,
          0.6213358044624329,
          0.731365978717804,
          0.3840234875679016,
          0.3549961745738983,
          0.4408541023731231,
          0.5599339604377747,
          0.59781813621521,
          0.5083564519882202,
          0.6819788217544556,
          0.3510455787181854,
          0.7756937742233276,
          0.5771005749702454,
          0.694959282875061,
          0.4724507927894592,
          0.4182679057121277,
          0.5044872164726257,
          0.4715882539749145,
          0.4805994927883148,
          0.5900744795799255,
          0.5043697357177734,
          0.5111182332038879,
          0.717934250831604,
          0.5277394652366638,
          0.6931741237640381,
          0.4628860056400299,
          0.4358714520931244,
          0.7498241066932678,
          0.3886721730232239,
          0.4887644052505493,
          0.3652084171772003,
          0.5367690920829773,
          0.4814238846302032,
          0.5372291803359985,
          0.4771543741226196,
          0.4253855049610138,
          0.4524644613265991,
          0.3459027707576751,
          0.5907093286514282,
          0.4369353055953979,
          0.7947701811790466,
          0.5692803263664246,
          0.7644912600517273,
          0.3886278867721557,
          0.8534020185470581,
          0.3315501809120178,
          0.3891918361186981,
          0.3719898164272308,
          0.4184492528438568,
          0.28447425365448,
          0.3530900776386261,
          0.4105368852615356,
          0.2517553269863128,
          0.4226357936859131,
          0.3203524649143219,
          0.4433195888996124,
          0.5626065731048584,
          0.4530872106552124,
          0.3681938648223877,
          0.2550489902496338,
          0.3408997058868408,
          0.3763662874698639,
          0.3410435616970062,
          0.4913662672042846,
          0.3017935156822204,
          0.4253958761692047,
          0.4925528466701507,
          0.1705607324838638,
          0.3348904848098755,
          0.6907193064689636,
          0.5511189699172974,
          0.5565559267997742,
          0.3270506858825683,
          0.4378627836704254,
          0.221745565533638,
          0.2564012408256531,
          0.4258413314819336,
          0.2592776715755462,
          0.372488796710968,
          0.4115402400493622,
          0.6356698274612427,
          0.4913234710693359,
          0.4294470250606537,
          0.4507486224174499,
          0.3617221117019653,
          0.303993284702301,
          0.2489765584468841,
          0.4645695984363556,
          0.8667107820510864,
          0.2637901902198791,
          0.292575865983963,
          0.2498911619186401,
          0.1885516494512558,
          0.3959013223648071,
          0.4066829085350036,
          0.1767237782478332,
          0.3310377597808838,
          0.2054269015789032,
          0.4381614923477173,
          0.2710561454296112,
          0.4154156446456909,
          0.1850908100605011,
          0.3768095374107361,
          0.4251168370246887,
          0.353494793176651,
          0.3326995968818664,
          0.1606508642435073,
          0.1855692565441131,
          0.217464879155159,
          0.1591872572898864,
          0.1828146576881408,
          0.2065318375825882,
          0.3029224574565887,
          0.4463719427585602,
          0.5224946737289429,
          0.3848927915096283,
          0.3479262292385101,
          0.2900103330612182,
          0.3427758514881134,
          0.4812022149562835,
          0.2439517676830291,
          0.2202516347169876,
          0.1932278275489807,
          0.3554490208625793,
          0.1634263098239898,
          0.4077230989933014,
          0.2803291380405426,
          0.6472740173339844,
          0.3165957629680633,
          0.2457039356231689,
          0.1514840722084045,
          0.288703054189682,
          0.4235817193984985,
          0.1894878447055816,
          0.3263252973556518,
          0.3965872228145599,
          0.3892967104911804,
          0.1606160104274749,
          0.2009025961160659,
          0.095027394592762,
          0.1493020951747894,
          0.2348780930042266,
          0.3607098460197449,
          0.3044196367263794,
          0.1327515244483947,
          0.1321623623371124,
          0.2847670614719391,
          0.2970412373542785,
          0.3601836860179901,
          0.3140268623828888,
          0.1952998042106628,
          0.2044041603803634,
          0.2808713316917419,
          0.2182491868734359,
          0.2914626598358154,
          0.1524149179458618,
          0.2613348960876465,
          0.1162668839097023,
          0.3943675756454468,
          0.2774762511253357,
          0.4793112874031067,
          0.299774169921875,
          0.4214302003383636,
          0.234482005238533,
          0.3740058243274688,
          0.3847188055515289,
          0.1661374568939209,
          0.077840007841587,
          0.2831988334655761,
          0.2686737179756164,
          0.4562982618808746,
          0.2761374711990356,
          0.2524453997611999,
          0.1858055591583252,
          0.3459900021553039,
          0.1505258977413177,
          0.4536134600639343,
          0.164535105228424,
          0.5161072015762329,
          1.4045662879943848,
          0.3449757993221283,
          0.2520643174648285,
          0.2687702178955078,
          0.3681545853614807,
          0.2386931627988815,
          0.2673555910587311,
          0.2366242855787277,
          0.146088421344757,
          0.1817944794893264,
          0.1400137245655059,
          0.2478683590888977,
          0.2074706256389618,
          0.4128468334674835,
          0.1084980815649032,
          0.1719865649938583,
          0.4000568985939026,
          0.4060162007808685,
          0.1034371927380561,
          0.4053423702716827,
          0.231504812836647,
          0.0801911279559135,
          0.2352389842271804,
          0.3652114272117615,
          0.7401268482208252,
          0.5050157308578491,
          0.3031931221485138,
          0.1988873332738876,
          0.1347547024488449,
          0.2659845650196075,
          0.1897689253091812,
          0.1631227135658264,
          0.2131985127925872,
          0.2609044909477234,
          0.3960947394371032,
          0.2136397212743759,
          0.2355570942163467,
          0.1883330643177032,
          0.2869569063186645,
          0.3360257148742676,
          0.1756579130887985,
          0.1342769563198089,
          0.1430753916501999,
          0.1475105434656143,
          0.1440321505069732,
          0.155402734875679,
          0.5434039235115051,
          0.3819275796413421,
          0.260145366191864,
          0.074577160179615,
          0.1937650144100189,
          0.1410612016916275,
          0.1353497803211212,
          0.1734275221824646,
          0.2637747824192047,
          0.3127540051937103,
          0.1985481679439544,
          0.2471876591444015,
          0.2905595302581787,
          0.269112229347229,
          0.3406214714050293,
          0.1999318599700927,
          0.1678991019725799,
          0.1265153735876083,
          0.1512971073389053,
          0.065780833363533,
          0.2665865123271942,
          0.3097804486751556,
          0.1165067330002784,
          0.3196925818920135,
          0.236757755279541,
          0.4316690564155578,
          0.1235240027308464,
          0.1059911027550697,
          0.1755980998277664,
          0.1763669550418853,
          0.2612585425376892,
          0.2772477865219116,
          0.0833454057574272,
          0.285546213388443,
          0.2701130211353302,
          0.1652244180440902,
          0.2499385923147201,
          0.3272890746593475,
          0.2076745182275772,
          0.0980246737599372,
          0.141393706202507,
          0.1102138683199882,
          0.1712256669998169,
          0.151964783668518,
          0.287115216255188,
          0.0853491127490997,
          0.1430882513523101,
          0.0749387368559837,
          0.1521841287612915,
          0.2925952970981598,
          0.2553266882896423,
          0.1400418728590011,
          0.1004813760519027,
          0.0574879311025142,
          0.2755349576473236,
          0.0342112444341182,
          0.157179445028305,
          0.1548143327236175,
          0.1460883617401123,
          0.1195798218250274,
          0.1215767487883567,
          0.0642687007784843,
          0.1814755052328109,
          0.1348576843738556,
          0.1392343193292617,
          0.1330235451459884,
          0.2855648696422577,
          0.1022836342453956,
          0.1064215973019599,
          0.1415154039859771,
          0.0760441198945045,
          0.0515441223978996,
          0.1034329831600189,
          0.3247867226600647,
          0.1117781847715377,
          0.1183365583419799,
          0.4429271519184112,
          0.2953675985336303,
          0.2611777186393738,
          0.1052938923239708,
          0.0622830279171466,
          0.0487899594008922,
          0.1921892911195755,
          0.2222347855567932,
          0.1332356929779052,
          0.0580948181450367,
          0.0627434849739074,
          0.1412292271852493,
          0.3544197678565979,
          0.0574195943772792,
          0.1491653770208358,
          0.1352753192186355,
          0.0479826778173446,
          0.0963919460773468,
          0.0526530183851718,
          0.0909996777772903,
          0.1274634152650833,
          0.1037812903523445,
          0.1226625889539718,
          0.0674748048186302,
          0.1165541633963584,
          0.1910207122564315,
          0.2863652110099792,
          0.0565438196063041,
          0.0412704311311244,
          0.1193544864654541,
          0.05756626278162,
          0.123379074037075,
          0.2933931350708008,
          0.1006093770265579,
          0.1344044655561447,
          0.1138786748051643,
          0.1905004680156707,
          0.0397222377359867,
          0.183011457324028,
          0.2027966678142547,
          0.0471172891557216,
          0.0727195590734481,
          0.2082192301750183,
          0.0984613820910453,
          0.041663110256195,
          0.2269323319196701,
          0.5988753437995911,
          0.1317025423049926,
          0.1176809072494506,
          0.0169218946248292,
          0.0690221264958381,
          0.062648594379425,
          0.0819708108901977,
          0.2531560659408569,
          0.1612426340579986,
          0.0743729546666145,
          0.0912319794297218,
          0.109133630990982,
          0.0753722265362739,
          0.0419068671762943,
          0.120372250676155,
          0.1389816552400589,
          0.2989852130413055,
          0.0978418886661529,
          0.0778862088918685,
          0.0570597015321254,
          0.1814323365688324,
          0.1910461485385894,
          0.0670625790953636,
          0.1001838222146034,
          0.1532009989023208,
          0.1502946764230728,
          0.2406812459230423,
          0.088460773229599,
          0.0556906424462795,
          0.1309298425912857,
          0.2216890156269073,
          0.084828145802021,
          0.2153785526752472,
          0.1801330149173736,
          0.1534187942743301,
          0.0397588461637496,
          0.2048330605030059,
          0.0478502623736858,
          0.1085658520460128,
          0.0327109508216381,
          0.360243558883667,
          0.0707228630781173,
          0.1375972777605056,
          0.1538944989442825,
          0.1165755093097686,
          0.1621780097484588,
          0.0559834279119968,
          0.0147407986223697,
          0.0941055342555046,
          0.0150568261742591,
          0.0549264177680015,
          0.0836999863386154,
          0.1058310940861702,
          0.0500047765672206,
          0.1355850845575332,
          0.1618438810110092,
          0.0419780537486076,
          0.1875633150339126,
          0.0406318046152591,
          0.0828968659043312,
          0.1771743446588516,
          0.1408102810382843,
          0.1557948291301727,
          0.2170025408267974,
          0.0442357286810874,
          0.3470453321933746,
          0.1551395952701568,
          0.3222613334655761,
          0.1461464166641235,
          0.1747839301824569,
          0.0500506870448589,
          0.0436686873435974,
          0.1075840517878532,
          0.2092857658863067,
          0.0603847689926624,
          0.0858977138996124,
          0.1920974552631378,
          0.1825421005487442,
          0.0742379054427146,
          0.0665485560894012,
          0.20037941634655,
          0.1796539276838302,
          0.0141899930313229,
          0.1397361606359481,
          0.0402847975492477,
          0.0355394482612609,
          0.1284382343292236,
          0.2167341858148574,
          0.1408326774835586,
          0.2325600087642669,
          0.1949775516986847,
          0.1410567462444305,
          0.0588568300008773,
          0.1550823599100113,
          0.1180925071239471
         ],
         "yaxis": "y"
        },
        {
         "hovertemplate": "set=val<br>step=%{x}<br>loss=%{y}<extra></extra>",
         "legendgroup": "val",
         "line": {
          "color": "#EF553B",
          "dash": "solid"
         },
         "mode": "lines",
         "name": "val",
         "orientation": "v",
         "showlegend": true,
         "type": "scatter",
         "x": [
          218,
          437,
          656,
          875,
          1094,
          1313,
          1532,
          1751,
          1970,
          2189,
          2408
         ],
         "xaxis": "x",
         "y": [
          0.963445246219635,
          0.9423060417175292,
          0.96257346868515,
          0.9129823446273804,
          1.1030946969985962,
          1.4465469121932983,
          1.1807000637054443,
          1.1537787914276123,
          1.0086578130722046,
          1.1599836349487305,
          1.1003721952438354
         ],
         "yaxis": "y"
        }
       ],
       "layout": {
        "legend": {
         "title": {
          "text": "set"
         },
         "tracegroupgap": 0
        },
        "margin": {
         "t": 60
        },
        "template": {
         "data": {
          "bar": [
           {
            "error_x": {
             "color": "#2a3f5f"
            },
            "error_y": {
             "color": "#2a3f5f"
            },
            "marker": {
             "line": {
              "color": "#E5ECF6",
              "width": 0.5
             }
            },
            "type": "bar"
           }
          ],
          "barpolar": [
           {
            "marker": {
             "line": {
              "color": "#E5ECF6",
              "width": 0.5
             }
            },
            "type": "barpolar"
           }
          ],
          "carpet": [
           {
            "aaxis": {
             "endlinecolor": "#2a3f5f",
             "gridcolor": "white",
             "linecolor": "white",
             "minorgridcolor": "white",
             "startlinecolor": "#2a3f5f"
            },
            "baxis": {
             "endlinecolor": "#2a3f5f",
             "gridcolor": "white",
             "linecolor": "white",
             "minorgridcolor": "white",
             "startlinecolor": "#2a3f5f"
            },
            "type": "carpet"
           }
          ],
          "choropleth": [
           {
            "colorbar": {
             "outlinewidth": 0,
             "ticks": ""
            },
            "type": "choropleth"
           }
          ],
          "contour": [
           {
            "colorbar": {
             "outlinewidth": 0,
             "ticks": ""
            },
            "colorscale": [
             [
              0,
              "#0d0887"
             ],
             [
              0.1111111111111111,
              "#46039f"
             ],
             [
              0.2222222222222222,
              "#7201a8"
             ],
             [
              0.3333333333333333,
              "#9c179e"
             ],
             [
              0.4444444444444444,
              "#bd3786"
             ],
             [
              0.5555555555555556,
              "#d8576b"
             ],
             [
              0.6666666666666666,
              "#ed7953"
             ],
             [
              0.7777777777777778,
              "#fb9f3a"
             ],
             [
              0.8888888888888888,
              "#fdca26"
             ],
             [
              1,
              "#f0f921"
             ]
            ],
            "type": "contour"
           }
          ],
          "contourcarpet": [
           {
            "colorbar": {
             "outlinewidth": 0,
             "ticks": ""
            },
            "type": "contourcarpet"
           }
          ],
          "heatmap": [
           {
            "colorbar": {
             "outlinewidth": 0,
             "ticks": ""
            },
            "colorscale": [
             [
              0,
              "#0d0887"
             ],
             [
              0.1111111111111111,
              "#46039f"
             ],
             [
              0.2222222222222222,
              "#7201a8"
             ],
             [
              0.3333333333333333,
              "#9c179e"
             ],
             [
              0.4444444444444444,
              "#bd3786"
             ],
             [
              0.5555555555555556,
              "#d8576b"
             ],
             [
              0.6666666666666666,
              "#ed7953"
             ],
             [
              0.7777777777777778,
              "#fb9f3a"
             ],
             [
              0.8888888888888888,
              "#fdca26"
             ],
             [
              1,
              "#f0f921"
             ]
            ],
            "type": "heatmap"
           }
          ],
          "heatmapgl": [
           {
            "colorbar": {
             "outlinewidth": 0,
             "ticks": ""
            },
            "colorscale": [
             [
              0,
              "#0d0887"
             ],
             [
              0.1111111111111111,
              "#46039f"
             ],
             [
              0.2222222222222222,
              "#7201a8"
             ],
             [
              0.3333333333333333,
              "#9c179e"
             ],
             [
              0.4444444444444444,
              "#bd3786"
             ],
             [
              0.5555555555555556,
              "#d8576b"
             ],
             [
              0.6666666666666666,
              "#ed7953"
             ],
             [
              0.7777777777777778,
              "#fb9f3a"
             ],
             [
              0.8888888888888888,
              "#fdca26"
             ],
             [
              1,
              "#f0f921"
             ]
            ],
            "type": "heatmapgl"
           }
          ],
          "histogram": [
           {
            "marker": {
             "colorbar": {
              "outlinewidth": 0,
              "ticks": ""
             }
            },
            "type": "histogram"
           }
          ],
          "histogram2d": [
           {
            "colorbar": {
             "outlinewidth": 0,
             "ticks": ""
            },
            "colorscale": [
             [
              0,
              "#0d0887"
             ],
             [
              0.1111111111111111,
              "#46039f"
             ],
             [
              0.2222222222222222,
              "#7201a8"
             ],
             [
              0.3333333333333333,
              "#9c179e"
             ],
             [
              0.4444444444444444,
              "#bd3786"
             ],
             [
              0.5555555555555556,
              "#d8576b"
             ],
             [
              0.6666666666666666,
              "#ed7953"
             ],
             [
              0.7777777777777778,
              "#fb9f3a"
             ],
             [
              0.8888888888888888,
              "#fdca26"
             ],
             [
              1,
              "#f0f921"
             ]
            ],
            "type": "histogram2d"
           }
          ],
          "histogram2dcontour": [
           {
            "colorbar": {
             "outlinewidth": 0,
             "ticks": ""
            },
            "colorscale": [
             [
              0,
              "#0d0887"
             ],
             [
              0.1111111111111111,
              "#46039f"
             ],
             [
              0.2222222222222222,
              "#7201a8"
             ],
             [
              0.3333333333333333,
              "#9c179e"
             ],
             [
              0.4444444444444444,
              "#bd3786"
             ],
             [
              0.5555555555555556,
              "#d8576b"
             ],
             [
              0.6666666666666666,
              "#ed7953"
             ],
             [
              0.7777777777777778,
              "#fb9f3a"
             ],
             [
              0.8888888888888888,
              "#fdca26"
             ],
             [
              1,
              "#f0f921"
             ]
            ],
            "type": "histogram2dcontour"
           }
          ],
          "mesh3d": [
           {
            "colorbar": {
             "outlinewidth": 0,
             "ticks": ""
            },
            "type": "mesh3d"
           }
          ],
          "parcoords": [
           {
            "line": {
             "colorbar": {
              "outlinewidth": 0,
              "ticks": ""
             }
            },
            "type": "parcoords"
           }
          ],
          "pie": [
           {
            "automargin": true,
            "type": "pie"
           }
          ],
          "scatter": [
           {
            "marker": {
             "colorbar": {
              "outlinewidth": 0,
              "ticks": ""
             }
            },
            "type": "scatter"
           }
          ],
          "scatter3d": [
           {
            "line": {
             "colorbar": {
              "outlinewidth": 0,
              "ticks": ""
             }
            },
            "marker": {
             "colorbar": {
              "outlinewidth": 0,
              "ticks": ""
             }
            },
            "type": "scatter3d"
           }
          ],
          "scattercarpet": [
           {
            "marker": {
             "colorbar": {
              "outlinewidth": 0,
              "ticks": ""
             }
            },
            "type": "scattercarpet"
           }
          ],
          "scattergeo": [
           {
            "marker": {
             "colorbar": {
              "outlinewidth": 0,
              "ticks": ""
             }
            },
            "type": "scattergeo"
           }
          ],
          "scattergl": [
           {
            "marker": {
             "colorbar": {
              "outlinewidth": 0,
              "ticks": ""
             }
            },
            "type": "scattergl"
           }
          ],
          "scattermapbox": [
           {
            "marker": {
             "colorbar": {
              "outlinewidth": 0,
              "ticks": ""
             }
            },
            "type": "scattermapbox"
           }
          ],
          "scatterpolar": [
           {
            "marker": {
             "colorbar": {
              "outlinewidth": 0,
              "ticks": ""
             }
            },
            "type": "scatterpolar"
           }
          ],
          "scatterpolargl": [
           {
            "marker": {
             "colorbar": {
              "outlinewidth": 0,
              "ticks": ""
             }
            },
            "type": "scatterpolargl"
           }
          ],
          "scatterternary": [
           {
            "marker": {
             "colorbar": {
              "outlinewidth": 0,
              "ticks": ""
             }
            },
            "type": "scatterternary"
           }
          ],
          "surface": [
           {
            "colorbar": {
             "outlinewidth": 0,
             "ticks": ""
            },
            "colorscale": [
             [
              0,
              "#0d0887"
             ],
             [
              0.1111111111111111,
              "#46039f"
             ],
             [
              0.2222222222222222,
              "#7201a8"
             ],
             [
              0.3333333333333333,
              "#9c179e"
             ],
             [
              0.4444444444444444,
              "#bd3786"
             ],
             [
              0.5555555555555556,
              "#d8576b"
             ],
             [
              0.6666666666666666,
              "#ed7953"
             ],
             [
              0.7777777777777778,
              "#fb9f3a"
             ],
             [
              0.8888888888888888,
              "#fdca26"
             ],
             [
              1,
              "#f0f921"
             ]
            ],
            "type": "surface"
           }
          ],
          "table": [
           {
            "cells": {
             "fill": {
              "color": "#EBF0F8"
             },
             "line": {
              "color": "white"
             }
            },
            "header": {
             "fill": {
              "color": "#C8D4E3"
             },
             "line": {
              "color": "white"
             }
            },
            "type": "table"
           }
          ]
         },
         "layout": {
          "annotationdefaults": {
           "arrowcolor": "#2a3f5f",
           "arrowhead": 0,
           "arrowwidth": 1
          },
          "autotypenumbers": "strict",
          "coloraxis": {
           "colorbar": {
            "outlinewidth": 0,
            "ticks": ""
           }
          },
          "colorscale": {
           "diverging": [
            [
             0,
             "#8e0152"
            ],
            [
             0.1,
             "#c51b7d"
            ],
            [
             0.2,
             "#de77ae"
            ],
            [
             0.3,
             "#f1b6da"
            ],
            [
             0.4,
             "#fde0ef"
            ],
            [
             0.5,
             "#f7f7f7"
            ],
            [
             0.6,
             "#e6f5d0"
            ],
            [
             0.7,
             "#b8e186"
            ],
            [
             0.8,
             "#7fbc41"
            ],
            [
             0.9,
             "#4d9221"
            ],
            [
             1,
             "#276419"
            ]
           ],
           "sequential": [
            [
             0,
             "#0d0887"
            ],
            [
             0.1111111111111111,
             "#46039f"
            ],
            [
             0.2222222222222222,
             "#7201a8"
            ],
            [
             0.3333333333333333,
             "#9c179e"
            ],
            [
             0.4444444444444444,
             "#bd3786"
            ],
            [
             0.5555555555555556,
             "#d8576b"
            ],
            [
             0.6666666666666666,
             "#ed7953"
            ],
            [
             0.7777777777777778,
             "#fb9f3a"
            ],
            [
             0.8888888888888888,
             "#fdca26"
            ],
            [
             1,
             "#f0f921"
            ]
           ],
           "sequentialminus": [
            [
             0,
             "#0d0887"
            ],
            [
             0.1111111111111111,
             "#46039f"
            ],
            [
             0.2222222222222222,
             "#7201a8"
            ],
            [
             0.3333333333333333,
             "#9c179e"
            ],
            [
             0.4444444444444444,
             "#bd3786"
            ],
            [
             0.5555555555555556,
             "#d8576b"
            ],
            [
             0.6666666666666666,
             "#ed7953"
            ],
            [
             0.7777777777777778,
             "#fb9f3a"
            ],
            [
             0.8888888888888888,
             "#fdca26"
            ],
            [
             1,
             "#f0f921"
            ]
           ]
          },
          "colorway": [
           "#636efa",
           "#EF553B",
           "#00cc96",
           "#ab63fa",
           "#FFA15A",
           "#19d3f3",
           "#FF6692",
           "#B6E880",
           "#FF97FF",
           "#FECB52"
          ],
          "font": {
           "color": "#2a3f5f"
          },
          "geo": {
           "bgcolor": "white",
           "lakecolor": "white",
           "landcolor": "#E5ECF6",
           "showlakes": true,
           "showland": true,
           "subunitcolor": "white"
          },
          "hoverlabel": {
           "align": "left"
          },
          "hovermode": "closest",
          "mapbox": {
           "style": "light"
          },
          "paper_bgcolor": "white",
          "plot_bgcolor": "#E5ECF6",
          "polar": {
           "angularaxis": {
            "gridcolor": "white",
            "linecolor": "white",
            "ticks": ""
           },
           "bgcolor": "#E5ECF6",
           "radialaxis": {
            "gridcolor": "white",
            "linecolor": "white",
            "ticks": ""
           }
          },
          "scene": {
           "xaxis": {
            "backgroundcolor": "#E5ECF6",
            "gridcolor": "white",
            "gridwidth": 2,
            "linecolor": "white",
            "showbackground": true,
            "ticks": "",
            "zerolinecolor": "white"
           },
           "yaxis": {
            "backgroundcolor": "#E5ECF6",
            "gridcolor": "white",
            "gridwidth": 2,
            "linecolor": "white",
            "showbackground": true,
            "ticks": "",
            "zerolinecolor": "white"
           },
           "zaxis": {
            "backgroundcolor": "#E5ECF6",
            "gridcolor": "white",
            "gridwidth": 2,
            "linecolor": "white",
            "showbackground": true,
            "ticks": "",
            "zerolinecolor": "white"
           }
          },
          "shapedefaults": {
           "line": {
            "color": "#2a3f5f"
           }
          },
          "ternary": {
           "aaxis": {
            "gridcolor": "white",
            "linecolor": "white",
            "ticks": ""
           },
           "baxis": {
            "gridcolor": "white",
            "linecolor": "white",
            "ticks": ""
           },
           "bgcolor": "#E5ECF6",
           "caxis": {
            "gridcolor": "white",
            "linecolor": "white",
            "ticks": ""
           }
          },
          "title": {
           "x": 0.05
          },
          "xaxis": {
           "automargin": true,
           "gridcolor": "white",
           "linecolor": "white",
           "ticks": "",
           "title": {
            "standoff": 15
           },
           "zerolinecolor": "white",
           "zerolinewidth": 2
          },
          "yaxis": {
           "automargin": true,
           "gridcolor": "white",
           "linecolor": "white",
           "ticks": "",
           "title": {
            "standoff": 15
           },
           "zerolinecolor": "white",
           "zerolinewidth": 2
          }
         }
        },
        "xaxis": {
         "anchor": "y",
         "domain": [
          0,
          1
         ],
         "title": {
          "text": "step"
         }
        },
        "yaxis": {
         "anchor": "x",
         "domain": [
          0,
          1
         ],
         "title": {
          "text": "loss"
         }
        }
       }
      }
     },
     "metadata": {},
     "output_type": "display_data"
    }
   ],
   "source": [
    "# Visualize losses/metrics\n",
    "\n",
    "log_dir = project_path + '/notebooks/logs/ResNet/1.0/'\n",
    "log = pd.read_csv(os.path.join(log_dir, 'metrics.csv'))\n",
    "\n",
    "train_log = log[['step', 'train_loss']].dropna().rename(columns={'train_loss': 'loss'})\n",
    "train_log['set'] = 'train'\n",
    "val_log = log[['step', 'val_loss']].dropna().rename(columns={'val_loss': 'loss'})\n",
    "val_log['set'] = 'val'\n",
    "\n",
    "log = train_log.append(val_log)\n",
    "#log = train_log\n",
    "log = log.sort_values(by=['step'])\n",
    "\n",
    "fig = px.line(log, x='step', y='loss', color='set')\n",
    "fig.show()"
   ]
  },
  {
   "cell_type": "code",
   "execution_count": null,
   "metadata": {},
   "outputs": [],
   "source": [
    "# Load a model we want to check out.\n",
    "\n",
    "path = project_path + '/models/ResNet.pt'\n",
    "#model.load_state_dict(torch.load(path))"
   ]
  },
  {
   "cell_type": "code",
   "execution_count": 81,
   "metadata": {},
   "outputs": [
    {
     "data": {
      "text/plain": [
       "<AxesSubplot:>"
      ]
     },
     "execution_count": 81,
     "metadata": {},
     "output_type": "execute_result"
    },
    {
     "data": {
      "image/png": "[encoded data removed]",
      "text/plain": [
       "<Figure size 432x288 with 2 Axes>"
      ]
     },
     "metadata": {
      "needs_background": "light"
     },
     "output_type": "display_data"
    }
   ],
   "source": [
    "# Plot a confusion matrix\n",
    "\n",
    "y_pred = []\n",
    "y_true = []\n",
    "\n",
    "# iterate over validation data\n",
    "model.eval()\n",
    "with torch.no_grad():\n",
    "        for inputs, labels in val_loader:\n",
    "                logits = model(inputs) # Feed Network\n",
    "\n",
    "                output = (torch.max(torch.exp(logits), 1))[1].cpu().numpy()\n",
    "                y_pred.extend(output) # Save Prediction\n",
    "                \n",
    "                labels = labels.data.cpu().numpy()\n",
    "                y_true.extend(labels) # Save Truth\n",
    "\n",
    "# constant for classes\n",
    "classes = ('akiec', 'bcc', 'bkl', 'df', 'mel', 'nv', 'vasc')\n",
    "\n",
    "# Build confusion matrix\n",
    "cf_matrix = confusion_matrix(y_true, y_pred)\n",
    "norm_cf_matrix = np.zeros((7, 7))\n",
    "for idx, row in enumerate(cf_matrix):\n",
    "    row = row/row.sum()*100.0\n",
    "    norm_cf_matrix[idx] = row\n",
    "df_cm = pd.DataFrame(norm_cf_matrix, index = [i for i in classes], columns = [i for i in classes])\n",
    "sns.heatmap(df_cm, annot=True, square=True, vmin=0.0, vmax=100.0)"
   ]
  },
  {
   "cell_type": "code",
   "execution_count": 82,
   "metadata": {},
   "outputs": [],
   "source": [
    "# Save the model if we like it.\n",
    "\n",
    "path = project_path + '/models/ResNet.pt'\n",
    "#torch.save(model.state_dict(), path)"
   ]
  }
 ],
 "metadata": {
  "interpreter": {
   "hash": "dd7180015afb5c2b39819f98dde8a9af643fe9afa196f2eb6eaf1e4a6c9ffccd"
  },
  "kernelspec": {
   "display_name": "Python 3.9.4 64-bit",
   "name": "python3"
  },
  "language_info": {
   "codemirror_mode": {
    "name": "ipython",
    "version": 3
   },
   "file_extension": ".py",
   "mimetype": "text/x-python",
   "name": "python",
   "nbconvert_exporter": "python",
   "pygments_lexer": "ipython3",
   "version": "3.9.4"
  },
  "orig_nbformat": 4
 },
 "nbformat": 4,
 "nbformat_minor": 2
}